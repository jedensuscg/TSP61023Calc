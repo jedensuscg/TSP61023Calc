{
 "cells": [
  {
   "cell_type": "markdown",
   "metadata": {},
   "source": [
    "[Duty Cycle](#duty)<br>\n",
    "[Inductor DC Current](#dccurrent)"
   ]
  },
  {
   "cell_type": "code",
   "execution_count": 4,
   "metadata": {},
   "outputs": [],
   "source": [
    "current_load = .07\n",
    "efficiency = .9\n",
    "inductor_value = 2.2\n",
    "volt_input = 0.5\n",
    "volt_output = 3\n",
    "current_idle = .0002"
   ]
  },
  {
   "cell_type": "markdown",
   "metadata": {},
   "source": [
    "<a id='duty'></a>\n",
    "### Duty Cycle Equation\n",
    "$D = 1-\\frac{V_{OUT}}{V_{IN}*\\eta}$\n",
    "\n",
    "Where:<br>\n",
    "D = Duty Cycle<br>\n",
    "$V_{OUT}$ = Output Voltage<br>\n",
    "$V_{IN}$ = Input Voltage<br>\n",
    "$\\eta$ = power efficiency  (typical .9)\n",
    "\n",
    "<a id='dccurrent'></a>\n",
    "### Inductor DC Current\n",
    "$I_{L(DC)} = \\frac{V_{OUT}*I_{OUT}}{V_{IN}*\\eta}$\n",
    "\n",
    "Where:<br>\n",
    "$V_{OUT}$ = Output Voltage<br>\n",
    "$V_{IN}$ = Input Voltage<br>\n",
    "$I_{OUT}$ = Output Current<br>\n",
    "$\\eta$ = power efficiency  (typical .9)\n",
    "\n",
    "<a id='ripplecurrent'></a>\n",
    "### Inductor Ripple Current\n",
    "$\\Delta I_{L(P-P)} = \\frac{V_{IN}*D}{L*f_{sw}}$\n",
    "\n",
    "Where:<br>\n",
    "$V_{IN}$ = Input Voltage<br>\n",
    "D = [Duty Cycle](#duty)<br>\n",
    "L = Inductor Value<br>\n",
    "$f_{sw}$ = power efficiency\n",
    "\n",
    "<a id='peakcurrent'></a>\n",
    "### Inductor Peak Current\n",
    "$I_{L(P)} = I_{L(DC)}+\\frac{\\Delta I_{L(P-P)}}{2}$\n",
    "\n",
    "\n"
   ]
  },
  {
   "cell_type": "code",
   "execution_count": 5,
   "metadata": {},
   "outputs": [
    {
     "data": {
      "text/plain": [
       "0.85"
      ]
     },
     "execution_count": 5,
     "metadata": {},
     "output_type": "execute_result"
    }
   ],
   "source": [
    "duty_cycle = 1-((volt_input * efficiency)/volt_output)\n",
    "duty_cycle"
   ]
  }
 ],
 "metadata": {
  "interpreter": {
   "hash": "63fd5069d213b44bf678585dea6b12cceca9941eaf7f819626cde1f2670de90d"
  },
  "kernelspec": {
   "display_name": "Python 3.9.0 64-bit",
   "language": "python",
   "name": "python3"
  },
  "language_info": {
   "codemirror_mode": {
    "name": "ipython",
    "version": 3
   },
   "file_extension": ".py",
   "mimetype": "text/x-python",
   "name": "python",
   "nbconvert_exporter": "python",
   "pygments_lexer": "ipython3",
   "version": "3.9.0"
  },
  "orig_nbformat": 4
 },
 "nbformat": 4,
 "nbformat_minor": 2
}
