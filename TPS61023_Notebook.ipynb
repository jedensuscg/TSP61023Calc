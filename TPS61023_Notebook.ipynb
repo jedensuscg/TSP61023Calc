{
 "cells": [
  {
   "cell_type": "code",
   "execution_count": 1,
   "metadata": {},
   "outputs": [],
   "source": [
    "volt_input = 0.5\n",
    "volt_output = 3\n",
    "current_idle = .0002\n",
    "current_load = .07\n",
    "efficiency = .9\n",
    "inductor_value = 2.2"
   ]
  },
  {
   "cell_type": "markdown",
   "metadata": {},
   "source": [
    "Duty Cycle Equation<br><br>\n",
    "$D = 1-\\frac{V_{out}}{V_{in}*\\eta}$\n",
    "\n",
    "Where<br>\n",
    "D = Duty Cycle<br>\n",
    "$V_{out}$ = Output Voltage<br>\n",
    "$V_{in}$ = Input Voltage<br>\n",
    "$\\eta$ = power efficiency  (typical .9)\n"
   ]
  },
  {
   "cell_type": "code",
   "execution_count": 3,
   "metadata": {},
   "outputs": [
    {
     "data": {
      "text/plain": [
       "0.85"
      ]
     },
     "execution_count": 3,
     "metadata": {},
     "output_type": "execute_result"
    }
   ],
   "source": [
    "# Duty Cycle\n",
    "# D = 1-((Vin * ╖)/Vout)\n",
    "\n",
    "duty_cycle = 1-((volt_input * efficiency)/volt_output)\n",
    "duty_cycle"
   ]
  },
  {
   "cell_type": "markdown",
   "metadata": {},
   "source": [
    "Inductor Ripple Current - peak to peak\n"
   ]
  }
 ],
 "metadata": {
  "interpreter": {
   "hash": "63fd5069d213b44bf678585dea6b12cceca9941eaf7f819626cde1f2670de90d"
  },
  "kernelspec": {
   "display_name": "Python 3.9.0 64-bit",
   "language": "python",
   "name": "python3"
  },
  "language_info": {
   "codemirror_mode": {
    "name": "ipython",
    "version": 3
   },
   "file_extension": ".py",
   "mimetype": "text/x-python",
   "name": "python",
   "nbconvert_exporter": "python",
   "pygments_lexer": "ipython3",
   "version": "3.9.0"
  },
  "orig_nbformat": 4
 },
 "nbformat": 4,
 "nbformat_minor": 2
}
