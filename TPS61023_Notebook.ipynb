{
 "cells": [
  {
   "cell_type": "markdown",
   "metadata": {},
   "source": [
    "[Duty Cycle](#duty)<br>\n",
    "[Inductor DC Current](#dccurrent)"
   ]
  },
  {
   "cell_type": "code",
   "execution_count": 186,
   "metadata": {},
   "outputs": [
    {
     "data": {
      "text/plain": [
       "550000.0"
      ]
     },
     "execution_count": 186,
     "metadata": {},
     "output_type": "execute_result"
    }
   ],
   "source": [
    "\n",
    "efficiency = .9\n",
    "inductor_value = .000001\n",
    "volt_input = 1.15\n",
    "volt_output = 3\n",
    "currents = [.0002,.07]\n",
    "\n",
    "def frequency_slope_intercept(volts):\n",
    "    m = (1000-550)/(1.75-1.15)\n",
    "    b = 550-m*1.15\n",
    "    intercept = (m*volts+b)*1000\n",
    "    return intercept\n",
    "\n",
    "frequency_slope_intercept(volt_input)"
   ]
  },
  {
   "cell_type": "markdown",
   "metadata": {},
   "source": [
    "<a id='duty'></a>\n",
    "### Duty Cycle Equation\n",
    "$D = 1-\\frac{V_{IN}*\\eta}{V_{OUT}}$\n",
    "\n",
    "Where:<br>\n",
    "D = Duty Cycle<br>\n",
    "$V_{OUT}$ = Output Voltage<br>\n",
    "$V_{IN}$ = Input Voltage<br>\n",
    "$\\eta$ = power efficiency  (typical .9)\n",
    "\n",
    "<a id='dccurrent'></a>\n",
    "### Inductor DC Current\n",
    "$I_{L(DC)} = \\frac{V_{OUT}*I_{OUT}}{V_{IN}*\\eta}$\n",
    "\n",
    "Where:<br>\n",
    "$V_{OUT}$ = Output Voltage<br>\n",
    "$V_{IN}$ = Input Voltage<br>\n",
    "$I_{OUT}$ = Output Current<br>\n",
    "$\\eta$ = power efficiency  (typical .9)\n",
    "\n",
    "<a id='ripplecurrent'></a>\n",
    "### Inductor Ripple Current\n",
    "$\\Delta I_{L(P-P)} = \\frac{V_{IN}*D}{L*f_{sw}}$\n",
    "\n",
    "Where:<br>\n",
    "$V_{IN}$ = Input Voltage<br>\n",
    "D = [Duty Cycle](#duty)<br>\n",
    "L = Inductor Value<br>\n",
    "$f_{sw}$ = frequency\n",
    "\n",
    "<a id='peakcurrent'></a>\n",
    "### Inductor Peak Current\n",
    "$I_{L(P)} = I_{L(DC)}+\\frac{\\Delta I_{L(P-P)}}{2}$\n",
    "\n",
    "\n"
   ]
  },
  {
   "cell_type": "code",
   "execution_count": 187,
   "metadata": {},
   "outputs": [
    {
     "data": {
      "text/plain": [
       "0.655"
      ]
     },
     "execution_count": 187,
     "metadata": {},
     "output_type": "execute_result"
    }
   ],
   "source": [
    "# Duty Cycle\n",
    "# def duty_cycle(vin,vout,eff):\n",
    "#     duty_cycle = 1-((vin * eff)/vout)\n",
    "#     return duty_cycle\n",
    "\n",
    "def duty_cycle():\n",
    "    duty_cycle = 1-((volt_input * efficiency)/volt_output)\n",
    "    return duty_cycle\n",
    "\n",
    "duty_cycle()"
   ]
  },
  {
   "cell_type": "code",
   "execution_count": 188,
   "metadata": {},
   "outputs": [
    {
     "data": {
      "text/plain": [
       "(0.0005797101449275363, 0.20289855072463772)"
      ]
     },
     "execution_count": 188,
     "metadata": {},
     "output_type": "execute_result"
    }
   ],
   "source": [
    "# Inductor DC Current\n",
    "def inductor_current_calc():\n",
    "    inductor_current_idle = (volt_output * currents[0])/(volt_input * efficiency)\n",
    "    inductor_current_load = (volt_output * currents[1])/(volt_input * efficiency)\n",
    "    inductor_currents = (inductor_current_idle,inductor_current_load)\n",
    "    return inductor_currents\n",
    "    \n",
    "inductor_current_calc()"
   ]
  },
  {
   "cell_type": "code",
   "execution_count": 189,
   "metadata": {},
   "outputs": [
    {
     "name": "stdout",
     "output_type": "stream",
     "text": [
      "Freq: 550000.0\n",
      "1.37\n"
     ]
    }
   ],
   "source": [
    "#Ripple Current\n",
    "#frequency slope between 1.2v and 1.75\n",
    "#450/1\n",
    "\n",
    "\n",
    "#print(frequency_slope_intercept(volt_input))\n",
    "def ripple_current_calc():\n",
    "    D = duty_cycle()\n",
    "    if volt_input < 1.15:\n",
    "        frequency = 500000\n",
    "    elif volt_input > 1.14 and volt_input < 1.76:\n",
    "        frequency = frequency_slope_intercept(volt_input)\n",
    "\n",
    "    else:\n",
    "        frequency = 1000000\n",
    "\n",
    "    ripple_current = (volt_input*D)/(inductor_value*frequency)\n",
    "    print(\"Freq: \" + str(frequency))\n",
    "    return ripple_current\n",
    "\n",
    "print(round(ripple_current_calc(),3))"
   ]
  },
  {
   "cell_type": "code",
   "execution_count": 190,
   "metadata": {},
   "outputs": [
    {
     "name": "stdout",
     "output_type": "stream",
     "text": [
      "Freq: 550000.0\n",
      "(0.0005797101449275363, 0.20289855072463772)\n"
     ]
    },
    {
     "data": {
      "text/plain": [
       "[0.6853524374176548, 0.887671277997365]"
      ]
     },
     "execution_count": 190,
     "metadata": {},
     "output_type": "execute_result"
    }
   ],
   "source": [
    "#Inductor Peak Current\n",
    "def peak_current_calc():\n",
    "    peak_currents = []\n",
    "    ripple_current = ripple_current_calc()\n",
    "    inductor_currents = inductor_current_calc()\n",
    "    print(inductor_currents)\n",
    "    for x in inductor_currents:\n",
    "        peak_currents.append(x+(ripple_current/2))\n",
    "\n",
    "    return peak_currents\n",
    "\n",
    "peak_current_calc()"
   ]
  }
 ],
 "metadata": {
  "kernelspec": {
   "display_name": "Python 3.9.0 64-bit",
   "language": "python",
   "name": "python3"
  },
  "language_info": {
   "codemirror_mode": {
    "name": "ipython",
    "version": 3
   },
   "file_extension": ".py",
   "mimetype": "text/x-python",
   "name": "python",
   "nbconvert_exporter": "python",
   "pygments_lexer": "ipython3",
   "version": "3.9.0"
  },
  "orig_nbformat": 4,
  "vscode": {
   "interpreter": {
    "hash": "81794d4967e6c3204c66dcd87b604927b115b27c00565d3d43f05ba2f3a2cb0d"
   }
  }
 },
 "nbformat": 4,
 "nbformat_minor": 2
}
